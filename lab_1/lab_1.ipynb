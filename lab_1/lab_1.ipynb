{
 "cells": [
  {
   "cell_type": "code",
   "execution_count": 1,
   "id": "b8b77e25",
   "metadata": {},
   "outputs": [],
   "source": [
    "import numpy\n",
    "from collections import defaultdict\n",
    "import cProfile\n",
    "from pstats import SortKey\n",
    "import pstats"
   ]
  },
  {
   "cell_type": "code",
   "execution_count": 15,
   "id": "b8857002",
   "metadata": {},
   "outputs": [],
   "source": [
    "class Graph:\n",
    "\n",
    "    def __init__(self):\n",
    "        # создаем словарь который будет содержать наш граф\n",
    "        self.graph = defaultdict(list)\n",
    "\n",
    "    def add(self, frm, to):\n",
    "        # добавляем ребро\n",
    "        self.graph[frm].append(to)\n",
    "        # на случай если исходящих ребер нет, чтобы узел присутствовал в графе\n",
    "        self.graph[to] = self.graph[to]\n",
    "        \n",
    "    def visit(self, v, visited, sortlist):\n",
    "        #print(visited)\n",
    "        # отмечаем что посещали эту вершину\n",
    "        visited[v] = True\n",
    "        for ind in self.graph[v]:\n",
    "            if visited[ind] == False:\n",
    "                #print(ind)\n",
    "                # вызываем функцию для смежных вершин\n",
    "                self.visit(ind, visited, sortlist)\n",
    "        # добавляем текущую вершину в отсортированный лист (сортируем с конца)\n",
    "        sortlist.insert(0, v)\n",
    "\n",
    "    def sort(self):\n",
    "        # словарь который отвечает за посещение узлов\n",
    "        visited = {i: False for i in self.graph}\n",
    "        \n",
    "        # список хранящий сортированные вершины\n",
    "        sortlist = []\n",
    "        # если мы не посещали эту вершину идем смотреть ее\n",
    "        for v in self.graph:\n",
    "            if visited[v] == False:\n",
    "                \n",
    "                self.visit(v, visited, sortlist)\n",
    "        #return sortlist\n",
    "        print(sortlist)"
   ]
  },
  {
   "cell_type": "code",
   "execution_count": 16,
   "id": "9f576459",
   "metadata": {},
   "outputs": [
    {
     "name": "stdout",
     "output_type": "stream",
     "text": [
      "[2, 5, 6, 1, 3, 4]\n"
     ]
    }
   ],
   "source": [
    "\n",
    "graph = Graph()\n",
    "graph.add(2, 4)\n",
    "graph.add(1, 3)\n",
    "graph.add(2, 1)\n",
    "graph.add(2, 5)\n",
    "graph.add(3, 4)\n",
    "graph.add(5, 1)\n",
    "graph.add(5, 6)\n",
    "graph.add(5, 6)\n",
    "graph.add(6, 3)\n",
    "graph.add(6, 4)\n",
    "sortlist = graph.sort()\n",
    "sortlist"
   ]
  },
  {
   "cell_type": "code",
   "execution_count": 4,
   "id": "b03bb64b",
   "metadata": {},
   "outputs": [],
   "source": [
    "# увеличим граф чтобы более точно понять скорость работы \n",
    "graph = Graph()\n",
    "for ind_from in range(1, 1500):\n",
    "    for ind_to in range (ind_from + 1, 1501):\n",
    "        graph.add(ind_from, ind_to)\n",
    "#graph.sort()\n",
    "#sortlist"
   ]
  },
  {
   "cell_type": "code",
   "execution_count": 5,
   "id": "67d96f1a",
   "metadata": {},
   "outputs": [],
   "source": [
    "cProfile.run(\"graph.sort()\", filename=\"sort.prof\")\n"
   ]
  },
  {
   "cell_type": "code",
   "execution_count": 6,
   "id": "48283ba2",
   "metadata": {},
   "outputs": [
    {
     "name": "stdout",
     "output_type": "stream",
     "text": [
      "Sun Feb 12 17:12:40 2023    sort.prof\n",
      "\n",
      "         3005 function calls (1506 primitive calls) in 0.055 seconds\n",
      "\n",
      "   Ordered by: internal time\n",
      "\n",
      "   ncalls  tottime  percall  cumtime  percall filename:lineno(function)\n",
      "   1500/1    0.054    0.000    0.055    0.055 C:\\Users\\Saivaks\\AppData\\Local\\Temp\\ipykernel_10348\\985087092.py:13(visit)\n",
      "     1500    0.001    0.000    0.001    0.000 {method 'insert' of 'list' objects}\n",
      "        1    0.000    0.000    0.000    0.000 C:\\Users\\Saivaks\\AppData\\Local\\Temp\\ipykernel_10348\\985087092.py:27(<dictcomp>)\n",
      "        1    0.000    0.000    0.055    0.055 C:\\Users\\Saivaks\\AppData\\Local\\Temp\\ipykernel_10348\\985087092.py:25(sort)\n",
      "        1    0.000    0.000    0.055    0.055 <string>:1(<module>)\n",
      "        1    0.000    0.000    0.055    0.055 {built-in method builtins.exec}\n",
      "        1    0.000    0.000    0.000    0.000 {method 'disable' of '_lsprof.Profiler' objects}\n",
      "\n",
      "\n"
     ]
    }
   ],
   "source": [
    "p = pstats.Stats(\"sort.prof\")\n",
    "p.sort_stats(pstats.SortKey.TIME).print_stats();"
   ]
  },
  {
   "cell_type": "code",
   "execution_count": 11,
   "id": "00aff13c",
   "metadata": {},
   "outputs": [],
   "source": [
    "class Graph:\n",
    "\n",
    "    def __init__(self):\n",
    "        # создаем словарь который будет содержать наш граф\n",
    "        self.graph = defaultdict(list)\n",
    "\n",
    "    def add(self, frm, to):\n",
    "        # добавляем ребро\n",
    "        self.graph[frm].append(to)\n",
    "        # на случай если исходящих ребер нет, чтобы узел присутствовал в графе\n",
    "        self.graph[to] = self.graph[to]\n",
    "\n",
    "    def sort(self):\n",
    "        # словарь который отвечает за посещение узлов\n",
    "        visited = {i: False for i in self.graph}\n",
    "        \n",
    "        # список хранящий сортированные вершины\n",
    "        sortlist = []\n",
    "        # если мы не посещали эту вершину идем смотреть ее\n",
    "        for v in self.graph:\n",
    "            if visited[v] == False:\n",
    "                \n",
    "                visit(self.graph, v, visited, sortlist)\n",
    "        #return sortlist\n",
    "        print(sortlist)\n",
    "        \n",
    "def visit(graph, v, visited, sortlist):\n",
    "    #print(visited)\n",
    "    # отмечаем что посещали эту вершину\n",
    "    visited[v] = True\n",
    "    for ind in graph[v]:\n",
    "        if visited[ind] == False:\n",
    "            #print(ind)\n",
    "            # вызываем функцию для смежных вершин\n",
    "            visit(graph, ind, visited, sortlist)\n",
    "    # добавляем текущую вершину в отсортированный лист (сортируем с конца)\n",
    "    sortlist.insert(0, v)"
   ]
  },
  {
   "cell_type": "code",
   "execution_count": 3,
   "id": "de2ed945",
   "metadata": {},
   "outputs": [
    {
     "ename": "ModuleNotFoundError",
     "evalue": "No module named 'Cython'",
     "output_type": "error",
     "traceback": [
      "\u001b[1;31m---------------------------------------------------------------------------\u001b[0m",
      "\u001b[1;31mModuleNotFoundError\u001b[0m                       Traceback (most recent call last)",
      "Cell \u001b[1;32mIn [3], line 2\u001b[0m\n\u001b[0;32m      1\u001b[0m \u001b[38;5;28;01mfrom\u001b[39;00m \u001b[38;5;21;01msetuptools\u001b[39;00m \u001b[38;5;28;01mimport\u001b[39;00m setup\n\u001b[1;32m----> 2\u001b[0m \u001b[38;5;28;01mfrom\u001b[39;00m \u001b[38;5;21;01mCython\u001b[39;00m\u001b[38;5;21;01m.\u001b[39;00m\u001b[38;5;21;01mBuild\u001b[39;00m \u001b[38;5;28;01mimport\u001b[39;00m cythonize\n\u001b[0;32m      4\u001b[0m setup(\n\u001b[0;32m      5\u001b[0m     ext_modules\u001b[38;5;241m=\u001b[39mcythonize(\u001b[38;5;124m\"\u001b[39m\u001b[38;5;124mvisit.pyx\u001b[39m\u001b[38;5;124m\"\u001b[39m),\n\u001b[0;32m      6\u001b[0m )\n",
      "\u001b[1;31mModuleNotFoundError\u001b[0m: No module named 'Cython'"
     ]
    }
   ],
   "source": [
    "from setuptools import setup\n",
    "from Cython.Build import cythonize\n",
    "\n",
    "setup(\n",
    "    ext_modules=cythonize(\"visit.pyx\"),\n",
    ")"
   ]
  },
  {
   "cell_type": "code",
   "execution_count": 12,
   "id": "0fb8b9ca",
   "metadata": {},
   "outputs": [
    {
     "name": "stdout",
     "output_type": "stream",
     "text": [
      "[2, 5, 6, 1, 3, 4]\n"
     ]
    }
   ],
   "source": [
    "graph = Graph()\n",
    "graph.add(2, 4)\n",
    "graph.add(1, 3)\n",
    "graph.add(2, 1)\n",
    "graph.add(2, 5)\n",
    "graph.add(3, 4)\n",
    "graph.add(5, 1)\n",
    "graph.add(5, 6)\n",
    "graph.add(5, 6)\n",
    "graph.add(6, 3)\n",
    "graph.add(6, 4)\n",
    "sortlist = graph.sort()\n",
    "sortlist"
   ]
  },
  {
   "cell_type": "code",
   "execution_count": null,
   "id": "0c525e83",
   "metadata": {},
   "outputs": [],
   "source": []
  }
 ],
 "metadata": {
  "kernelspec": {
   "display_name": "Python 3 (ipykernel)",
   "language": "python",
   "name": "python3"
  },
  "language_info": {
   "codemirror_mode": {
    "name": "ipython",
    "version": 3
   },
   "file_extension": ".py",
   "mimetype": "text/x-python",
   "name": "python",
   "nbconvert_exporter": "python",
   "pygments_lexer": "ipython3",
   "version": "3.9.13"
  }
 },
 "nbformat": 4,
 "nbformat_minor": 5
}
